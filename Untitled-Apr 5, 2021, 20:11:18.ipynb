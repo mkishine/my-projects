{
  "cells": [
    {
      "cell_type": "code",
      "source": [
        "%%sql --database RetailDemo --container WebsiteData --output df_cosmos\n",
        "SELECT c.Action, c.Price as ItemRevenue, c.Country, c.Item FROM c"
      ],
      "outputs": [
        {
          "output_type": "display_data",
          "data": {
            "text/html": "\r\n<div>\r\n  <style type='text/css' scoped>\r\n.collapsible {\r\n  background-color: #fff;\r\n  color: #0078D4;\r\n  cursor: pointer;\r\n  padding: 10px;\r\n  border: none;\r\n  text-align: left;\r\n  outline: none;\r\n  font-size: 15px;\r\n  border-radius: 5px;\r\n  margin: 5px\r\n}\r\n\r\n.active, .collapsible:hover {\r\n  color: #4db2ff;\r\n}\r\n\r\n.content {\r\n  margin: 2px;\r\n  padding: 0 18px;\r\n  overflow: hidden;\r\n  background-color: #fff;\r\n  height: 0px;\r\n  -moz-transition: height .2s ease-out;\r\n  -ms-transition: height .2s ease-out;\r\n  -o-transition: height .2s ease-out;\r\n  -webkit-transition: height .2s ease-out;\r\n  transition: height .2s ease-out;\r\n}\r\n</style>\r\n\r\n<button type='button' class='collapsible'>▶ View Query Metrics</button>\r\n  \r\n<div class='content'>\r\n  <div class='measuringWrapper'>\r\n    <span style=\"color:#0078D4\"><b>totalExecutionTimeInMs    </b>:    22.69<br/><b>queryCompileTimeInMs    </b>:    0.28<br/><b>queryLogicalPlanBuildTimeInMs    </b>:    0.06<br/><b>queryPhysicalPlanBuildTimeInMs    </b>:    0.03<br/><b>queryOptimizationTimeInMs    </b>:    0<br/><b>VMExecutionTimeInMs    </b>:    21.759999999999998<br/><b>indexLookupTimeInMs    </b>:    0<br/><b>documentLoadTimeInMs    </b>:    12.299999999999999<br/><b>systemFunctionExecuteTimeInMs    </b>:    0<br/><b>userFunctionExecuteTimeInMs    </b>:    0<br/><b>retrievedDocumentCount    </b>:    2654<br/><b>retrievedDocumentSize    </b>:    1366721<br/><b>outputDocumentCount    </b>:    2654<br/><b>outputDocumentSize    </b>:    220967<br/><b>writeOutputTimeInMs    </b>:    2.72<br/><b>averageIndexUtilizationRation    </b>:    1<br/></span>\r\n  </div>\r\n</div>\r\n\r\n<script>\r\nvar coll = document.getElementsByClassName('collapsible');\r\nvar i;\r\n\r\nfor (i = 0; i < coll.length; i++) {\r\n  \r\n  coll[i].addEventListener('click', function() {\r\n    this.classList.toggle('active');\r\n    var content = this.nextElementSibling;\r\n    \r\n    if (content.clientHeight != 0) {\r\n      this.textContent = '▶ View Query Metrics';\r\n      content.style.height = '0px';\r\n    }\r\n    else {\r\n      this.textContent = '▼ Hide Query Metrics';\r\n      content.style.height = content.children[0].clientHeight + 'px';\r\n    }\r\n  });\r\n}\r\n</script>\r\n</div>"
          },
          "metadata": {}
        }
      ],
      "execution_count": 1,
      "metadata": {
        "collapsed": true,
        "jupyter": {
          "source_hidden": false,
          "outputs_hidden": false
        },
        "nteract": {
          "transient": {
            "deleting": false
          }
        },
        "execution": {
          "iopub.status.busy": "2021-04-06T00:11:39.324Z",
          "iopub.status.idle": "2021-04-06T00:11:39.536Z",
          "shell.execute_reply": "2021-04-06T00:11:39.668Z",
          "iopub.execute_input": "2021-04-06T00:11:39.532Z"
        }
      }
    },
    {
      "cell_type": "code",
      "source": [
        "df_cosmos"
      ],
      "outputs": [
        {
          "output_type": "execute_result",
          "execution_count": 3,
          "data": {
            "text/plain": "         Action  ItemRevenue                            Country  \\\n0     Purchased        22.50                             Malawi   \n1        Viewed        25.20                     Virgin Islands   \n2         Added        25.20                     Virgin Islands   \n3        Viewed        31.99                             Serbia   \n4     Purchased        95.00                          Venezuela   \n...         ...          ...                                ...   \n2649      Added        90.00                             Serbia   \n2650      Added        65.00  Heard Island and McDonald Islands   \n2651     Viewed        12.00                         Uzbekistan   \n2652     Viewed       120.00                            Uruguay   \n2653  Purchased       130.00                              Qatar   \n\n                 Item  \n0     Athletic Shorts  \n1         White Shirt  \n2         White Shirt  \n3        Denim Jacket  \n4           Suit Pant  \n...               ...  \n2649       Dark Jeans  \n2650      Black Dress  \n2651          Sandals  \n2652      Dress Shoes  \n2653        Red Dress  \n\n[2654 rows x 4 columns]",
            "text/html": "<div>\n<style scoped>\n    .dataframe tbody tr th:only-of-type {\n        vertical-align: middle;\n    }\n\n    .dataframe tbody tr th {\n        vertical-align: top;\n    }\n\n    .dataframe thead th {\n        text-align: right;\n    }\n</style>\n<table border=\"1\" class=\"dataframe\">\n  <thead>\n    <tr style=\"text-align: right;\">\n      <th></th>\n      <th>Action</th>\n      <th>ItemRevenue</th>\n      <th>Country</th>\n      <th>Item</th>\n    </tr>\n  </thead>\n  <tbody>\n    <tr>\n      <th>0</th>\n      <td>Purchased</td>\n      <td>22.50</td>\n      <td>Malawi</td>\n      <td>Athletic Shorts</td>\n    </tr>\n    <tr>\n      <th>1</th>\n      <td>Viewed</td>\n      <td>25.20</td>\n      <td>Virgin Islands</td>\n      <td>White Shirt</td>\n    </tr>\n    <tr>\n      <th>2</th>\n      <td>Added</td>\n      <td>25.20</td>\n      <td>Virgin Islands</td>\n      <td>White Shirt</td>\n    </tr>\n    <tr>\n      <th>3</th>\n      <td>Viewed</td>\n      <td>31.99</td>\n      <td>Serbia</td>\n      <td>Denim Jacket</td>\n    </tr>\n    <tr>\n      <th>4</th>\n      <td>Purchased</td>\n      <td>95.00</td>\n      <td>Venezuela</td>\n      <td>Suit Pant</td>\n    </tr>\n    <tr>\n      <th>...</th>\n      <td>...</td>\n      <td>...</td>\n      <td>...</td>\n      <td>...</td>\n    </tr>\n    <tr>\n      <th>2649</th>\n      <td>Added</td>\n      <td>90.00</td>\n      <td>Serbia</td>\n      <td>Dark Jeans</td>\n    </tr>\n    <tr>\n      <th>2650</th>\n      <td>Added</td>\n      <td>65.00</td>\n      <td>Heard Island and McDonald Islands</td>\n      <td>Black Dress</td>\n    </tr>\n    <tr>\n      <th>2651</th>\n      <td>Viewed</td>\n      <td>12.00</td>\n      <td>Uzbekistan</td>\n      <td>Sandals</td>\n    </tr>\n    <tr>\n      <th>2652</th>\n      <td>Viewed</td>\n      <td>120.00</td>\n      <td>Uruguay</td>\n      <td>Dress Shoes</td>\n    </tr>\n    <tr>\n      <th>2653</th>\n      <td>Purchased</td>\n      <td>130.00</td>\n      <td>Qatar</td>\n      <td>Red Dress</td>\n    </tr>\n  </tbody>\n</table>\n<p>2654 rows × 4 columns</p>\n</div>"
          },
          "metadata": {}
        }
      ],
      "execution_count": 3,
      "metadata": {
        "collapsed": true,
        "jupyter": {
          "source_hidden": false,
          "outputs_hidden": false
        },
        "nteract": {
          "transient": {
            "deleting": false
          }
        },
        "execution": {
          "iopub.status.busy": "2021-04-06T00:12:31.881Z",
          "iopub.execute_input": "2021-04-06T00:12:31.885Z",
          "iopub.status.idle": "2021-04-06T00:12:31.976Z",
          "shell.execute_reply": "2021-04-06T00:12:31.982Z"
        }
      }
    }
  ],
  "metadata": {
    "language_info": {
      "name": "python",
      "version": "3.7",
      "mimetype": "application/json",
      "file_extension": "ipynb"
    },
    "nteract": {
      "version": "dataExplorer 1.0"
    }
  },
  "nbformat": 4,
  "nbformat_minor": 0
}